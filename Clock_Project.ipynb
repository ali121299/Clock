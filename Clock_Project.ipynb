{
  "cells": [
    {
      "cell_type": "code",
      "execution_count": null,
      "id": "95bd924f",
      "metadata": {
        "id": "95bd924f"
      },
      "outputs": [],
      "source": [
        "def get_clock(img, hours, minutes, radius=250):\n",
        "    \n",
        "    x_center = 400\n",
        "    y_center = 500 \n",
        "    font = cv2.FONT_HERSHEY_SIMPLEX\n",
        "    \n",
        "    cv2.circle(img,(x_center,y_center), radius, (0,0,255), 3)\n",
        "    \n",
        "    for i , angle in enumerate(hours):\n",
        "        angle_rad = np.deg2rad(angle)\n",
        "        x = int(radius*math.cos(angle_rad))\n",
        "        y = int(radius*math.sin(angle_rad))\n",
        "        x_ = int((radius+35)*math.cos(angle_rad))+x_center-15\n",
        "        y_ = int((radius+35)*math.sin(angle_rad))+y_center+5\n",
        "        cv2.putText(img, str(i+1), (x_,y_), font, 1, (255,255,255), 3, cv2.LINE_AA)\n",
        "        cv2.rectangle(img, (x_center+x-3,y_center+y-3), (x_center+x+3,y_center+y+3), (170,80,130), -1)\n",
        "        \n",
        "    \n",
        "    for angle in minutes:\n",
        "        if angle not in hours:\n",
        "            angle_rad = np.deg2rad(angle)\n",
        "            x = int(radius*math.cos(angle_rad))\n",
        "            y = int(radius*math.sin(angle_rad))\n",
        "            cv2.rectangle(img, (x_center+x-2,y_center+y-2), (x_center+x+1,y_center+y+1), (0,255,255), -1)\n",
        "\n",
        "    return img"
      ]
    },
    {
      "cell_type": "code",
      "execution_count": null,
      "id": "7c99e495",
      "metadata": {
        "id": "7c99e495"
      },
      "outputs": [],
      "source": [
        "import cv2\n",
        "import math\n",
        "import numpy as np\n",
        "from matplotlib import pyplot as plt\n",
        "from datetime import datetime\n",
        "\n",
        "angles=[x*30 for x in range(10)]\n",
        "hours = [300, 330] + angles\n",
        "minutes = [x*6 for x in range(60)]\n",
        "\n",
        "img = np.zeros((800,800,3), np.uint8)\n",
        "\n",
        "radius = 200\n",
        "x_center = 400\n",
        "y_center = 500\n",
        "\n",
        "while True:\n",
        "    \n",
        "    img = np.zeros((800,800,3), np.uint8)\n",
        "    img = get_clock(img, hours, minutes, radius)\n",
        "    \n",
        "    now = datetime.now()\n",
        "    dt_string = now.strftime(\"%d/%m/%Y %H:%M:%S\")\n",
        "    date = 'Date: ' + dt_string.split()[0]\n",
        "    time = 'Time: ' + dt_string.split()[1]\n",
        "    cv2.putText(img, date, (15,75), cv2.FONT_HERSHEY_SIMPLEX, 2, (255,255,255), 4, cv2.LINE_AA)\n",
        "    cv2.putText(img, time, (15,150), cv2.FONT_HERSHEY_SIMPLEX, 2, (255,255,255), 4, cv2.LINE_AA)\n",
        "\n",
        "    hour = now.hour\n",
        "    mins = now.minute\n",
        "    sec  = now.second\n",
        "    micro = now.microsecond\n",
        "    \n",
        "    if hour>12:\n",
        "        hour= hour - 12\n",
        "    h_angle = hours[hour-1] + 0.5*mins\n",
        "    m_angle = minutes[mins-15] + 0.1*sec\n",
        "    s_angle = minutes[sec-15] +0.000006*micro\n",
        "\n",
        "    x_hour = int((radius-100)*math.cos(np.deg2rad(h_angle)))\n",
        "    y_hour = int((radius-100)*math.sin(np.deg2rad(h_angle)))\n",
        "\n",
        "    x_mins = int(radius*math.cos(np.deg2rad(m_angle)))\n",
        "    y_mins = int(radius*math.sin(np.deg2rad(m_angle)))\n",
        "\n",
        "    x_sec = int((radius-50)*math.cos(np.deg2rad(s_angle)))\n",
        "    y_sec = int((radius-50)*math.sin(np.deg2rad(s_angle)))\n",
        "\n",
        "    cv2.line(img, (x_center,y_center), (x_center+x_hour,y_center+y_hour), (255,0,0), 10)    #hours\n",
        "    cv2.line(img, (x_center,y_center), (x_center+x_mins,y_center+y_mins), (0,255,0), 5)    #mins\n",
        "    cv2.line(img, (x_center,y_center), (x_center+x_sec,y_center+y_sec), (170,170,170), 2)    #seconds\n",
        "    cv2.circle(img,(x_center,y_center), 5, (0,0,255), -1)\n",
        "    \n",
        "    cv2.imshow(\"image\",img)\n",
        "    k = cv2.waitKey(1) & 0xFF\n",
        "    if k==27:\n",
        "        break\n",
        "    \n",
        "cv2.destroyAllWindows()\n",
        "#plt.imshow(img)\n",
        "#print(minutes)\n",
        "#print(s_angle)"
      ]
    },
    {
      "cell_type": "code",
      "execution_count": null,
      "id": "1fa934a9",
      "metadata": {
        "id": "1fa934a9",
        "outputId": "9e8afee7-b4ae-4415-f3f0-8b8794152e53"
      },
      "outputs": [
        {
          "name": "stdout",
          "output_type": "stream",
          "text": [
            "1 300\n",
            "2 330\n",
            "3 0\n",
            "4 30\n",
            "5 60\n",
            "6 90\n",
            "7 120\n",
            "8 150\n",
            "9 180\n",
            "10 210\n",
            "11 240\n",
            "12 270\n"
          ]
        }
      ],
      "source": [
        "for i , angle in enumerate(hours):\n",
        "    print(i+1,angle)"
      ]
    },
    {
      "cell_type": "code",
      "execution_count": null,
      "id": "62b060ed",
      "metadata": {
        "id": "62b060ed"
      },
      "outputs": [],
      "source": []
    }
  ],
  "metadata": {
    "kernelspec": {
      "display_name": "Python 3 (ipykernel)",
      "language": "python",
      "name": "python3"
    },
    "language_info": {
      "codemirror_mode": {
        "name": "ipython",
        "version": 3
      },
      "file_extension": ".py",
      "mimetype": "text/x-python",
      "name": "python",
      "nbconvert_exporter": "python",
      "pygments_lexer": "ipython3",
      "version": "3.7.13"
    },
    "colab": {
      "provenance": []
    }
  },
  "nbformat": 4,
  "nbformat_minor": 5
}